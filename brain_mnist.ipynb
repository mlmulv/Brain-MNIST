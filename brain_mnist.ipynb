{
 "cells": [
  {
   "cell_type": "markdown",
   "id": "4ee9285a-f14c-4bec-917e-7e1af88b9046",
   "metadata": {},
   "source": [
    "# Brain MNIST Classification\n",
    "In this data set we will be using the MindBigData dataset. I will be solely using just the MindWave file. This dataset contains EEG data when a person is shown a digit (0-9). The goal is to classify based on EEG data what digit was shown to the person."
   ]
  },
  {
   "cell_type": "code",
   "execution_count": 64,
   "id": "44ad0769-8a77-4147-ada7-43acb630c907",
   "metadata": {},
   "outputs": [
    {
     "data": {
      "text/html": [
       "<div>\n",
       "<style scoped>\n",
       "    .dataframe tbody tr th:only-of-type {\n",
       "        vertical-align: middle;\n",
       "    }\n",
       "\n",
       "    .dataframe tbody tr th {\n",
       "        vertical-align: top;\n",
       "    }\n",
       "\n",
       "    .dataframe thead th {\n",
       "        text-align: right;\n",
       "    }\n",
       "</style>\n",
       "<table border=\"1\" class=\"dataframe\">\n",
       "  <thead>\n",
       "    <tr style=\"text-align: right;\">\n",
       "      <th></th>\n",
       "      <th>id</th>\n",
       "      <th>event</th>\n",
       "      <th>channel</th>\n",
       "      <th>num</th>\n",
       "      <th>size</th>\n",
       "      <th>eeg</th>\n",
       "    </tr>\n",
       "  </thead>\n",
       "  <tbody>\n",
       "    <tr>\n",
       "      <th>0</th>\n",
       "      <td>0</td>\n",
       "      <td>MW</td>\n",
       "      <td>FP1</td>\n",
       "      <td>0</td>\n",
       "      <td>1017</td>\n",
       "      <td>38,48,51,44,48,56,56,41,20,-3,-9,-1,6,5,6,17,2...</td>\n",
       "    </tr>\n",
       "    <tr>\n",
       "      <th>1</th>\n",
       "      <td>1</td>\n",
       "      <td>MW</td>\n",
       "      <td>FP1</td>\n",
       "      <td>1</td>\n",
       "      <td>889</td>\n",
       "      <td>83,74,65,65,66,55,43,25,18,20,26,33,41,38,28,3...</td>\n",
       "    </tr>\n",
       "    <tr>\n",
       "      <th>2</th>\n",
       "      <td>2</td>\n",
       "      <td>MW</td>\n",
       "      <td>FP1</td>\n",
       "      <td>4</td>\n",
       "      <td>1017</td>\n",
       "      <td>19,10,-2,-9,-5,3,8,7,8,2,-10,-21,-22,-27,-30,-...</td>\n",
       "    </tr>\n",
       "    <tr>\n",
       "      <th>3</th>\n",
       "      <td>3</td>\n",
       "      <td>MW</td>\n",
       "      <td>FP1</td>\n",
       "      <td>1</td>\n",
       "      <td>1017</td>\n",
       "      <td>17,29,36,26,21,17,17,13,17,21,25,26,20,5,-5,-1...</td>\n",
       "    </tr>\n",
       "    <tr>\n",
       "      <th>4</th>\n",
       "      <td>4</td>\n",
       "      <td>MW</td>\n",
       "      <td>FP1</td>\n",
       "      <td>8</td>\n",
       "      <td>952</td>\n",
       "      <td>77,74,69,70,76,75,76,75,67,66,76,93,98,82,55,3...</td>\n",
       "    </tr>\n",
       "  </tbody>\n",
       "</table>\n",
       "</div>"
      ],
      "text/plain": [
       "   id event channel  num  size  \\\n",
       "0   0    MW     FP1    0  1017   \n",
       "1   1    MW     FP1    1   889   \n",
       "2   2    MW     FP1    4  1017   \n",
       "3   3    MW     FP1    1  1017   \n",
       "4   4    MW     FP1    8   952   \n",
       "\n",
       "                                                 eeg  \n",
       "0  38,48,51,44,48,56,56,41,20,-3,-9,-1,6,5,6,17,2...  \n",
       "1  83,74,65,65,66,55,43,25,18,20,26,33,41,38,28,3...  \n",
       "2  19,10,-2,-9,-5,3,8,7,8,2,-10,-21,-22,-27,-30,-...  \n",
       "3  17,29,36,26,21,17,17,13,17,21,25,26,20,5,-5,-1...  \n",
       "4  77,74,69,70,76,75,76,75,67,66,76,93,98,82,55,3...  "
      ]
     },
     "execution_count": 64,
     "metadata": {},
     "output_type": "execute_result"
    }
   ],
   "source": [
    "#importing dataset\n",
    "import pandas as pd\n",
    "\n",
    "data=pd.read_csv(\"MW.txt\", sep='\\t', header=None, names=[\"id\", \"event\", \"channel\", \"num\", \"size\", \"eeg\"])\n",
    "\n",
    "#plotting first 5 samples\n",
    "data.head()"
   ]
  },
  {
   "cell_type": "code",
   "execution_count": 65,
   "id": "441393fe-161e-4c92-96bf-3aedd0cda69d",
   "metadata": {},
   "outputs": [
    {
     "data": {
      "text/plain": [
       "0        38,48,51,44,48,56,56,41,20,-3,-9,-1,6,5,6,17,2...\n",
       "1        83,74,65,65,66,55,43,25,18,20,26,33,41,38,28,3...\n",
       "2        19,10,-2,-9,-5,3,8,7,8,2,-10,-21,-22,-27,-30,-...\n",
       "3        17,29,36,26,21,17,17,13,17,21,25,26,20,5,-5,-1...\n",
       "4        77,74,69,70,76,75,76,75,67,66,76,93,98,82,55,3...\n",
       "                               ...                        \n",
       "67630    138,135,123,96,59,38,11,16,44,67,70,73,67,33,4...\n",
       "67631    4,5,-7,-12,-11,-17,2,52,73,55,12,-22,-7,38,43,...\n",
       "67632    96,163,208,179,129,114,140,155,108,56,28,9,-8,...\n",
       "67633    -30,4,53,85,84,72,80,85,65,23,-26,-42,-56,-146...\n",
       "67634    41,27,41,76,88,80,83,76,60,72,112,124,100,60,3...\n",
       "Name: eeg, Length: 67635, dtype: object"
      ]
     },
     "execution_count": 65,
     "metadata": {},
     "output_type": "execute_result"
    }
   ],
   "source": [
    "#preprocessing the eeg data\n",
    "import numpy as np\n",
    "import matplotlib.pyplot as plt\n",
    "\n"
   ]
  }
 ],
 "metadata": {
  "kernelspec": {
   "display_name": "Python 3 (ipykernel)",
   "language": "python",
   "name": "python3"
  },
  "language_info": {
   "codemirror_mode": {
    "name": "ipython",
    "version": 3
   },
   "file_extension": ".py",
   "mimetype": "text/x-python",
   "name": "python",
   "nbconvert_exporter": "python",
   "pygments_lexer": "ipython3",
   "version": "3.10.13"
  }
 },
 "nbformat": 4,
 "nbformat_minor": 5
}
