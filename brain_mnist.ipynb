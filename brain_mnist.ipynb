{
 "cells": [
  {
   "cell_type": "markdown",
   "id": "4ee9285a-f14c-4bec-917e-7e1af88b9046",
   "metadata": {},
   "source": [
    "# Brain MNIST Classification\n",
    "In this data set we will be using the MindBigData dataset (https://mindbigdata.com/opendb/index.html). I will be solely using just the MindWave file. This dataset contains EEG data when a person is shown a digit (0-9). The goal is to classify based on EEG data what digit was shown to the person."
   ]
  },
  {
   "cell_type": "markdown",
   "id": "ed4be608-3ddc-42d6-ac27-d0326642bc11",
   "metadata": {},
   "source": [
    "## Importing Dataset"
   ]
  },
  {
   "cell_type": "code",
   "execution_count": 3,
   "id": "44ad0769-8a77-4147-ada7-43acb630c907",
   "metadata": {},
   "outputs": [
    {
     "data": {
      "text/html": [
       "<div>\n",
       "<style scoped>\n",
       "    .dataframe tbody tr th:only-of-type {\n",
       "        vertical-align: middle;\n",
       "    }\n",
       "\n",
       "    .dataframe tbody tr th {\n",
       "        vertical-align: top;\n",
       "    }\n",
       "\n",
       "    .dataframe thead th {\n",
       "        text-align: right;\n",
       "    }\n",
       "</style>\n",
       "<table border=\"1\" class=\"dataframe\">\n",
       "  <thead>\n",
       "    <tr style=\"text-align: right;\">\n",
       "      <th></th>\n",
       "      <th>id</th>\n",
       "      <th>event</th>\n",
       "      <th>channel</th>\n",
       "      <th>num</th>\n",
       "      <th>size</th>\n",
       "      <th>eeg</th>\n",
       "    </tr>\n",
       "  </thead>\n",
       "  <tbody>\n",
       "    <tr>\n",
       "      <th>0</th>\n",
       "      <td>0</td>\n",
       "      <td>MW</td>\n",
       "      <td>FP1</td>\n",
       "      <td>0</td>\n",
       "      <td>1017</td>\n",
       "      <td>38,48,51,44,48,56,56,41,20,-3,-9,-1,6,5,6,17,2...</td>\n",
       "    </tr>\n",
       "    <tr>\n",
       "      <th>1</th>\n",
       "      <td>1</td>\n",
       "      <td>MW</td>\n",
       "      <td>FP1</td>\n",
       "      <td>1</td>\n",
       "      <td>889</td>\n",
       "      <td>83,74,65,65,66,55,43,25,18,20,26,33,41,38,28,3...</td>\n",
       "    </tr>\n",
       "    <tr>\n",
       "      <th>2</th>\n",
       "      <td>2</td>\n",
       "      <td>MW</td>\n",
       "      <td>FP1</td>\n",
       "      <td>4</td>\n",
       "      <td>1017</td>\n",
       "      <td>19,10,-2,-9,-5,3,8,7,8,2,-10,-21,-22,-27,-30,-...</td>\n",
       "    </tr>\n",
       "    <tr>\n",
       "      <th>3</th>\n",
       "      <td>3</td>\n",
       "      <td>MW</td>\n",
       "      <td>FP1</td>\n",
       "      <td>1</td>\n",
       "      <td>1017</td>\n",
       "      <td>17,29,36,26,21,17,17,13,17,21,25,26,20,5,-5,-1...</td>\n",
       "    </tr>\n",
       "    <tr>\n",
       "      <th>4</th>\n",
       "      <td>4</td>\n",
       "      <td>MW</td>\n",
       "      <td>FP1</td>\n",
       "      <td>8</td>\n",
       "      <td>952</td>\n",
       "      <td>77,74,69,70,76,75,76,75,67,66,76,93,98,82,55,3...</td>\n",
       "    </tr>\n",
       "  </tbody>\n",
       "</table>\n",
       "</div>"
      ],
      "text/plain": [
       "   id event channel  num  size  \\\n",
       "0   0    MW     FP1    0  1017   \n",
       "1   1    MW     FP1    1   889   \n",
       "2   2    MW     FP1    4  1017   \n",
       "3   3    MW     FP1    1  1017   \n",
       "4   4    MW     FP1    8   952   \n",
       "\n",
       "                                                 eeg  \n",
       "0  38,48,51,44,48,56,56,41,20,-3,-9,-1,6,5,6,17,2...  \n",
       "1  83,74,65,65,66,55,43,25,18,20,26,33,41,38,28,3...  \n",
       "2  19,10,-2,-9,-5,3,8,7,8,2,-10,-21,-22,-27,-30,-...  \n",
       "3  17,29,36,26,21,17,17,13,17,21,25,26,20,5,-5,-1...  \n",
       "4  77,74,69,70,76,75,76,75,67,66,76,93,98,82,55,3...  "
      ]
     },
     "execution_count": 3,
     "metadata": {},
     "output_type": "execute_result"
    }
   ],
   "source": [
    "#importing dataset with pandas\n",
    "import pandas as pd\n",
    "\n",
    "data=pd.read_csv(\"MW.txt\", sep='\\t', header=None, names=[\"id\", \"event\", \"channel\", \"num\", \"size\", \"eeg\"])\n",
    "\n",
    "#plotting top 5 samples\n",
    "data.head()"
   ]
  },
  {
   "cell_type": "markdown",
   "id": "ff5d2ca9-98d5-40a9-826e-f3b6bee64322",
   "metadata": {},
   "source": [
    "## Preprocessing the EEG Data"
   ]
  },
  {
   "cell_type": "markdown",
   "id": "638ae50f-1024-4bb5-b808-0252d3207dd5",
   "metadata": {},
   "source": [
    "### Extracting data of the same size from EEG Data"
   ]
  },
  {
   "cell_type": "code",
   "execution_count": 4,
   "id": "a21df79e-01c5-42dc-95e0-6b793a907302",
   "metadata": {},
   "outputs": [
    {
     "data": {
      "text/plain": [
       "size\n",
       "952     14403\n",
       "953     13610\n",
       "1024    12701\n",
       "1017     8825\n",
       "1015     8617\n",
       "889      6445\n",
       "951      1068\n",
       "1016      820\n",
       "1014      597\n",
       "888       530\n",
       "825         7\n",
       "826         5\n",
       "763         2\n",
       "504         1\n",
       "441         1\n",
       "569         1\n",
       "890         1\n",
       "700         1\n",
       "Name: count, dtype: int64"
      ]
     },
     "execution_count": 4,
     "metadata": {},
     "output_type": "execute_result"
    }
   ],
   "source": [
    "#looking at the different sizes of data\n",
    "data[\"size\"].value_counts()"
   ]
  },
  {
   "cell_type": "markdown",
   "id": "4520f8ed-f12c-4271-8eba-e3aa57a971c4",
   "metadata": {},
   "source": [
    "The dataset should contain 2 seconds of data with a sampling rate of 512Hz. Theoretically, there should be about 1024 samples of data. This is not the case when looking at the different sizes within the size column. For the sake of this project, I will be working with data that is 952 samples long because it has the highest quantity of data.\n",
    "\n",
    "When further evaluating the data, eeg data with 1024 samples all belong to the (-1) class which will not be in the scope of this project."
   ]
  },
  {
   "cell_type": "code",
   "execution_count": 5,
   "id": "4ef773c5-06b3-422b-8b02-26ee0d8cf254",
   "metadata": {},
   "outputs": [
    {
     "data": {
      "text/html": [
       "<div>\n",
       "<style scoped>\n",
       "    .dataframe tbody tr th:only-of-type {\n",
       "        vertical-align: middle;\n",
       "    }\n",
       "\n",
       "    .dataframe tbody tr th {\n",
       "        vertical-align: top;\n",
       "    }\n",
       "\n",
       "    .dataframe thead th {\n",
       "        text-align: right;\n",
       "    }\n",
       "</style>\n",
       "<table border=\"1\" class=\"dataframe\">\n",
       "  <thead>\n",
       "    <tr style=\"text-align: right;\">\n",
       "      <th></th>\n",
       "      <th>id</th>\n",
       "      <th>event</th>\n",
       "      <th>channel</th>\n",
       "      <th>num</th>\n",
       "      <th>size</th>\n",
       "      <th>eeg</th>\n",
       "    </tr>\n",
       "  </thead>\n",
       "  <tbody>\n",
       "    <tr>\n",
       "      <th>4</th>\n",
       "      <td>4</td>\n",
       "      <td>MW</td>\n",
       "      <td>FP1</td>\n",
       "      <td>8</td>\n",
       "      <td>952</td>\n",
       "      <td>77,74,69,70,76,75,76,75,67,66,76,93,98,82,55,3...</td>\n",
       "    </tr>\n",
       "    <tr>\n",
       "      <th>6</th>\n",
       "      <td>6</td>\n",
       "      <td>MW</td>\n",
       "      <td>FP1</td>\n",
       "      <td>5</td>\n",
       "      <td>952</td>\n",
       "      <td>-68,-65,-55,-52,-60,-67,-58,-46,-28,-19,-19,-2...</td>\n",
       "    </tr>\n",
       "    <tr>\n",
       "      <th>9</th>\n",
       "      <td>9</td>\n",
       "      <td>MW</td>\n",
       "      <td>FP1</td>\n",
       "      <td>7</td>\n",
       "      <td>952</td>\n",
       "      <td>25,24,2,-19,-11,2,1,-4,-12,-18,-8,5,11,9,4,0,1...</td>\n",
       "    </tr>\n",
       "    <tr>\n",
       "      <th>14</th>\n",
       "      <td>14</td>\n",
       "      <td>MW</td>\n",
       "      <td>FP1</td>\n",
       "      <td>7</td>\n",
       "      <td>952</td>\n",
       "      <td>34,84,117,90,32,-4,7,41,44,20,-5,-13,6,28,36,3...</td>\n",
       "    </tr>\n",
       "    <tr>\n",
       "      <th>21</th>\n",
       "      <td>21</td>\n",
       "      <td>MW</td>\n",
       "      <td>FP1</td>\n",
       "      <td>8</td>\n",
       "      <td>952</td>\n",
       "      <td>42,26,3,-1,12,33,40,37,24,17,16,9,3,12,38,64,8...</td>\n",
       "    </tr>\n",
       "    <tr>\n",
       "      <th>...</th>\n",
       "      <td>...</td>\n",
       "      <td>...</td>\n",
       "      <td>...</td>\n",
       "      <td>...</td>\n",
       "      <td>...</td>\n",
       "      <td>...</td>\n",
       "    </tr>\n",
       "    <tr>\n",
       "      <th>54917</th>\n",
       "      <td>54917</td>\n",
       "      <td>MW</td>\n",
       "      <td>FP1</td>\n",
       "      <td>4</td>\n",
       "      <td>952</td>\n",
       "      <td>1,-17,-10,24,60,56,19,-13,-2,54,88,72,33,12,9,...</td>\n",
       "    </tr>\n",
       "    <tr>\n",
       "      <th>54918</th>\n",
       "      <td>54918</td>\n",
       "      <td>MW</td>\n",
       "      <td>FP1</td>\n",
       "      <td>0</td>\n",
       "      <td>952</td>\n",
       "      <td>2,-3,-9,-1,6,11,12,6,-8,-17,-19,-18,-17,-25,-2...</td>\n",
       "    </tr>\n",
       "    <tr>\n",
       "      <th>54921</th>\n",
       "      <td>54921</td>\n",
       "      <td>MW</td>\n",
       "      <td>FP1</td>\n",
       "      <td>7</td>\n",
       "      <td>952</td>\n",
       "      <td>16,23,37,41,38,27,16,17,25,27,27,25,23,35,52,6...</td>\n",
       "    </tr>\n",
       "    <tr>\n",
       "      <th>54928</th>\n",
       "      <td>54928</td>\n",
       "      <td>MW</td>\n",
       "      <td>FP1</td>\n",
       "      <td>3</td>\n",
       "      <td>952</td>\n",
       "      <td>26,25,33,41,42,39,44,60,53,33,25,27,26,18,9,5,...</td>\n",
       "    </tr>\n",
       "    <tr>\n",
       "      <th>54931</th>\n",
       "      <td>54931</td>\n",
       "      <td>MW</td>\n",
       "      <td>FP1</td>\n",
       "      <td>1</td>\n",
       "      <td>952</td>\n",
       "      <td>52,55,71,73,59,53,50,51,56,64,65,56,39,33,52,6...</td>\n",
       "    </tr>\n",
       "  </tbody>\n",
       "</table>\n",
       "<p>14403 rows × 6 columns</p>\n",
       "</div>"
      ],
      "text/plain": [
       "          id event channel  num  size  \\\n",
       "4          4    MW     FP1    8   952   \n",
       "6          6    MW     FP1    5   952   \n",
       "9          9    MW     FP1    7   952   \n",
       "14        14    MW     FP1    7   952   \n",
       "21        21    MW     FP1    8   952   \n",
       "...      ...   ...     ...  ...   ...   \n",
       "54917  54917    MW     FP1    4   952   \n",
       "54918  54918    MW     FP1    0   952   \n",
       "54921  54921    MW     FP1    7   952   \n",
       "54928  54928    MW     FP1    3   952   \n",
       "54931  54931    MW     FP1    1   952   \n",
       "\n",
       "                                                     eeg  \n",
       "4      77,74,69,70,76,75,76,75,67,66,76,93,98,82,55,3...  \n",
       "6      -68,-65,-55,-52,-60,-67,-58,-46,-28,-19,-19,-2...  \n",
       "9      25,24,2,-19,-11,2,1,-4,-12,-18,-8,5,11,9,4,0,1...  \n",
       "14     34,84,117,90,32,-4,7,41,44,20,-5,-13,6,28,36,3...  \n",
       "21     42,26,3,-1,12,33,40,37,24,17,16,9,3,12,38,64,8...  \n",
       "...                                                  ...  \n",
       "54917  1,-17,-10,24,60,56,19,-13,-2,54,88,72,33,12,9,...  \n",
       "54918  2,-3,-9,-1,6,11,12,6,-8,-17,-19,-18,-17,-25,-2...  \n",
       "54921  16,23,37,41,38,27,16,17,25,27,27,25,23,35,52,6...  \n",
       "54928  26,25,33,41,42,39,44,60,53,33,25,27,26,18,9,5,...  \n",
       "54931  52,55,71,73,59,53,50,51,56,64,65,56,39,33,52,6...  \n",
       "\n",
       "[14403 rows x 6 columns]"
      ]
     },
     "execution_count": 5,
     "metadata": {},
     "output_type": "execute_result"
    }
   ],
   "source": [
    "#creating new dataset with eeg data that is 952 samples long\n",
    "new_size = 952\n",
    "new_data = data.loc[data[\"size\"] == new_size]\n",
    "new_data"
   ]
  },
  {
   "cell_type": "markdown",
   "id": "fc5c7585-eeb2-4092-a09e-2342c1df9bac",
   "metadata": {},
   "source": [
    "## Extracting the EEG data from the Pandas Dataframe"
   ]
  },
  {
   "cell_type": "code",
   "execution_count": 11,
   "id": "995baaf5-dd98-4423-8c27-a42205f95c7f",
   "metadata": {},
   "outputs": [
    {
     "data": {
      "text/plain": [
       "(14403, 952)"
      ]
     },
     "execution_count": 11,
     "metadata": {},
     "output_type": "execute_result"
    }
   ],
   "source": [
    "#testing extracting one eeg-stream into a numpy array\n",
    "import numpy as np\n",
    "eeg_data = np.zeros(shape=(new_size, new_data[\"eeg\"].size))\n",
    "temp = new_data[\"eeg\"].to_numpy()\n",
    "\n",
    "#iterating through preallocated array\n",
    "for i in range(new_data[\"eeg\"].size):\n",
    "    eeg_data[:,i] = np.fromstring(temp[i], dtype=int, sep=',')\n",
    "\n",
    "#transposing so samples are among the columns\n",
    "eeg_data = np.transpose(eeg_data)\n",
    "eeg_data.shape"
   ]
  },
  {
   "cell_type": "code",
   "execution_count": 12,
   "id": "f81d2194-554b-4406-86f3-f539407e7d51",
   "metadata": {},
   "outputs": [
    {
     "data": {
      "image/png": "[encoded data removed]",
      "text/plain": [
       "<Figure size 640x480 with 4 Axes>"
      ]
     },
     "metadata": {},
     "output_type": "display_data"
    }
   ],
   "source": [
    "#plotting some eeg data\n",
    "import matplotlib.pyplot as plt\n",
    "fig, ax = plt.subplots(2, 2)\n",
    "\n",
    "i=0;\n",
    "for ax in ax.flat:\n",
    "    ax.plot(eeg_data[i,:])\n",
    "    ax.set(ylabel='mV')\n",
    "    i+=1"
   ]
  },
  {
   "cell_type": "markdown",
   "id": "bc0e92fd-4257-4fca-9069-a991aef59021",
   "metadata": {},
   "source": [
    "### Train-Test Split\n",
    "Before we perform any pre-processing on the raw eeg data, it is important to split the dataset within training and testing split to reduce the likelihood of data leakage."
   ]
  },
  {
   "cell_type": "code",
   "execution_count": 13,
   "id": "36eea69e-a873-43d6-8378-a54ffd3c5107",
   "metadata": {},
   "outputs": [],
   "source": [
    "#sklearn train-test split\n",
    "from sklearn.model_selection import train_test_split\n",
    "\n",
    "#extract labels from pandas dataframe\n",
    "labels = new_data[\"num\"].to_numpy()\n",
    "\n",
    "eeg_train, eeg_test, labels_train, labels_test = train_test_split(\n",
    "                                                    eeg_data,\n",
    "                                                    labels, \n",
    "                                                    test_size=0.2, \n",
    "                                                    random_state=24)"
   ]
  },
  {
   "cell_type": "markdown",
   "id": "88f276b1-454b-4bdf-bf2c-c448d699db27",
   "metadata": {},
   "source": [
    "### Filtering the EEG Data"
   ]
  },
  {
   "cell_type": "code",
   "execution_count": null,
   "id": "f837c08b-7322-444e-9e28-b5b45e7ff723",
   "metadata": {},
   "outputs": [],
   "source": []
  }
 ],
 "metadata": {
  "kernelspec": {
   "display_name": "Python 3 (ipykernel)",
   "language": "python",
   "name": "python3"
  },
  "language_info": {
   "codemirror_mode": {
    "name": "ipython",
    "version": 3
   },
   "file_extension": ".py",
   "mimetype": "text/x-python",
   "name": "python",
   "nbconvert_exporter": "python",
   "pygments_lexer": "ipython3",
   "version": "3.10.13"
  }
 },
 "nbformat": 4,
 "nbformat_minor": 5
}
